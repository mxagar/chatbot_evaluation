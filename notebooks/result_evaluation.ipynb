{
 "cells": [
  {
   "cell_type": "markdown",
   "metadata": {},
   "source": [
    "# Result Evaluation"
   ]
  },
  {
   "cell_type": "code",
   "execution_count": 2,
   "metadata": {},
   "outputs": [],
   "source": [
    "import pandas as pd"
   ]
  },
  {
   "cell_type": "code",
   "execution_count": 3,
   "metadata": {},
   "outputs": [],
   "source": [
    "df = pd.read_csv(\"../results/test_evaluation_results.csv\")"
   ]
  },
  {
   "cell_type": "code",
   "execution_count": 4,
   "metadata": {},
   "outputs": [
    {
     "data": {
      "text/html": [
       "<div>\n",
       "<style scoped>\n",
       "    .dataframe tbody tr th:only-of-type {\n",
       "        vertical-align: middle;\n",
       "    }\n",
       "\n",
       "    .dataframe tbody tr th {\n",
       "        vertical-align: top;\n",
       "    }\n",
       "\n",
       "    .dataframe thead th {\n",
       "        text-align: right;\n",
       "    }\n",
       "</style>\n",
       "<table border=\"1\" class=\"dataframe\">\n",
       "  <thead>\n",
       "    <tr style=\"text-align: right;\">\n",
       "      <th></th>\n",
       "      <th>index</th>\n",
       "      <th>question</th>\n",
       "      <th>reference_answer</th>\n",
       "      <th>predicted_answer</th>\n",
       "      <th>duration</th>\n",
       "      <th>dummy_similarity</th>\n",
       "      <th>chatbot_type</th>\n",
       "      <th>dataset_path</th>\n",
       "      <th>scorers</th>\n",
       "      <th>param_1</th>\n",
       "      <th>param_2</th>\n",
       "    </tr>\n",
       "  </thead>\n",
       "  <tbody>\n",
       "    <tr>\n",
       "      <th>0</th>\n",
       "      <td>0</td>\n",
       "      <td>How do I make a chocolate cake?</td>\n",
       "      <td>Mix flour, sugar, cocoa powder, baking powder,...</td>\n",
       "      <td>Mix flour, sugar, cocoa powder, baking powder,...</td>\n",
       "      <td>0.0</td>\n",
       "      <td>0.639427</td>\n",
       "      <td>dummy</td>\n",
       "      <td>./data/history_dummy.csv</td>\n",
       "      <td>['dummy']</td>\n",
       "      <td>value_1</td>\n",
       "      <td>value_2</td>\n",
       "    </tr>\n",
       "    <tr>\n",
       "      <th>1</th>\n",
       "      <td>1</td>\n",
       "      <td>What ingredients do I need for spaghetti carbo...</td>\n",
       "      <td>You need spaghetti, eggs, pancetta, parmesan c...</td>\n",
       "      <td>Mix flour, sugar, cocoa powder, baking powder,...</td>\n",
       "      <td>0.0</td>\n",
       "      <td>0.037613</td>\n",
       "      <td>dummy</td>\n",
       "      <td>./data/history_dummy.csv</td>\n",
       "      <td>['dummy']</td>\n",
       "      <td>value_1</td>\n",
       "      <td>value_2</td>\n",
       "    </tr>\n",
       "    <tr>\n",
       "      <th>2</th>\n",
       "      <td>2</td>\n",
       "      <td>How long does it take to cook a medium-rare st...</td>\n",
       "      <td>Cook the steak for about 4-5 minutes on each s...</td>\n",
       "      <td>Mix flour, sugar, cocoa powder, baking powder,...</td>\n",
       "      <td>0.0</td>\n",
       "      <td>0.030449</td>\n",
       "      <td>dummy</td>\n",
       "      <td>./data/history_dummy.csv</td>\n",
       "      <td>['dummy']</td>\n",
       "      <td>value_1</td>\n",
       "      <td>value_2</td>\n",
       "    </tr>\n",
       "    <tr>\n",
       "      <th>3</th>\n",
       "      <td>3</td>\n",
       "      <td>This is our past conversation:\\n\\nUser: Can I ...</td>\n",
       "      <td>You're welcome!</td>\n",
       "      <td>Mix flour, sugar, cocoa powder, baking powder,...</td>\n",
       "      <td>0.0</td>\n",
       "      <td>0.008881</td>\n",
       "      <td>dummy</td>\n",
       "      <td>./data/history_dummy.csv</td>\n",
       "      <td>['dummy']</td>\n",
       "      <td>value_1</td>\n",
       "      <td>value_2</td>\n",
       "    </tr>\n",
       "    <tr>\n",
       "      <th>4</th>\n",
       "      <td>4</td>\n",
       "      <td>This is our past conversation:\\n\\nUser: What i...</td>\n",
       "      <td>Glad to help!</td>\n",
       "      <td>Mix flour, sugar, cocoa powder, baking powder,...</td>\n",
       "      <td>0.0</td>\n",
       "      <td>0.008641</td>\n",
       "      <td>dummy</td>\n",
       "      <td>./data/history_dummy.csv</td>\n",
       "      <td>['dummy']</td>\n",
       "      <td>value_1</td>\n",
       "      <td>value_2</td>\n",
       "    </tr>\n",
       "  </tbody>\n",
       "</table>\n",
       "</div>"
      ],
      "text/plain": [
       "   index                                           question  \\\n",
       "0      0                    How do I make a chocolate cake?   \n",
       "1      1  What ingredients do I need for spaghetti carbo...   \n",
       "2      2  How long does it take to cook a medium-rare st...   \n",
       "3      3  This is our past conversation:\\n\\nUser: Can I ...   \n",
       "4      4  This is our past conversation:\\n\\nUser: What i...   \n",
       "\n",
       "                                    reference_answer  \\\n",
       "0  Mix flour, sugar, cocoa powder, baking powder,...   \n",
       "1  You need spaghetti, eggs, pancetta, parmesan c...   \n",
       "2  Cook the steak for about 4-5 minutes on each s...   \n",
       "3                                    You're welcome!   \n",
       "4                                      Glad to help!   \n",
       "\n",
       "                                    predicted_answer  duration  \\\n",
       "0  Mix flour, sugar, cocoa powder, baking powder,...       0.0   \n",
       "1  Mix flour, sugar, cocoa powder, baking powder,...       0.0   \n",
       "2  Mix flour, sugar, cocoa powder, baking powder,...       0.0   \n",
       "3  Mix flour, sugar, cocoa powder, baking powder,...       0.0   \n",
       "4  Mix flour, sugar, cocoa powder, baking powder,...       0.0   \n",
       "\n",
       "   dummy_similarity chatbot_type              dataset_path    scorers  \\\n",
       "0          0.639427        dummy  ./data/history_dummy.csv  ['dummy']   \n",
       "1          0.037613        dummy  ./data/history_dummy.csv  ['dummy']   \n",
       "2          0.030449        dummy  ./data/history_dummy.csv  ['dummy']   \n",
       "3          0.008881        dummy  ./data/history_dummy.csv  ['dummy']   \n",
       "4          0.008641        dummy  ./data/history_dummy.csv  ['dummy']   \n",
       "\n",
       "   param_1  param_2  \n",
       "0  value_1  value_2  \n",
       "1  value_1  value_2  \n",
       "2  value_1  value_2  \n",
       "3  value_1  value_2  \n",
       "4  value_1  value_2  "
      ]
     },
     "execution_count": 4,
     "metadata": {},
     "output_type": "execute_result"
    },
    {
     "ename": "",
     "evalue": "",
     "output_type": "error",
     "traceback": [
      "\u001b[1;31mThe Kernel crashed while executing code in the current cell or a previous cell. \n",
      "\u001b[1;31mPlease review the code in the cell(s) to identify a possible cause of the failure. \n",
      "\u001b[1;31mClick <a href='https://aka.ms/vscodeJupyterKernelCrash'>here</a> for more info. \n",
      "\u001b[1;31mView Jupyter <a href='command:jupyter.viewOutput'>log</a> for further details."
     ]
    }
   ],
   "source": [
    "df"
   ]
  },
  {
   "cell_type": "code",
   "execution_count": null,
   "metadata": {},
   "outputs": [],
   "source": []
  }
 ],
 "metadata": {
  "kernelspec": {
   "display_name": "Python 3",
   "language": "python",
   "name": "python3"
  },
  "language_info": {
   "codemirror_mode": {
    "name": "ipython",
    "version": 3
   },
   "file_extension": ".py",
   "mimetype": "text/x-python",
   "name": "python",
   "nbconvert_exporter": "python",
   "pygments_lexer": "ipython3",
   "version": "3.10.13"
  }
 },
 "nbformat": 4,
 "nbformat_minor": 2
}
